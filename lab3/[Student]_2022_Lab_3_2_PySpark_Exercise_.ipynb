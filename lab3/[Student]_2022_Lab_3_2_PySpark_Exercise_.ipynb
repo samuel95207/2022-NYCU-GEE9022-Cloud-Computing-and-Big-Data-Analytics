{
  "nbformat": 4,
  "nbformat_minor": 0,
  "metadata": {
    "anaconda-cloud": {},
    "kernelspec": {
      "display_name": "Python 3",
      "language": "python",
      "name": "python3"
    },
    "language_info": {
      "codemirror_mode": {
        "name": "ipython",
        "version": 3
      },
      "file_extension": ".py",
      "mimetype": "text/x-python",
      "name": "python",
      "nbconvert_exporter": "python",
      "pygments_lexer": "ipython3",
      "version": "3.6.4"
    },
    "colab": {
      "name": "[Student] 2022-Lab-3-2_PySpark_Exercise_.ipynb",
      "provenance": [],
      "collapsed_sections": []
    }
  },
  "cells": [
    {
      "cell_type": "markdown",
      "metadata": {
        "id": "geQ2KY-KwFuo"
      },
      "source": [
        "# Spark DataFrames Project Exercise"
      ]
    },
    {
      "cell_type": "markdown",
      "metadata": {
        "id": "vpmpUmKPwFuw"
      },
      "source": [
        "Let's get some quick practice with your new Spark DataFrame skills, you will be asked some basic questions about some stock market data, in this case Walmart Stock from the years 2012-2017. This exercise will just ask a bunch of questions, unlike the future machine learning exercises, which will be a little looser and be in the form of \"Consulting Projects\", but more on that later!\n",
        "\n",
        "For now, just answer the questions and complete the tasks below.\n"
      ]
    },
    {
      "cell_type": "markdown",
      "metadata": {
        "id": "JckqAIOAwFuw"
      },
      "source": [
        "#### Use the walmart_stock.csv file to Answer and complete the  tasks below!"
      ]
    },
    {
      "cell_type": "code",
      "metadata": {
        "id": "32QYfynqwHvZ",
        "colab": {
          "base_uri": "https://localhost:8080/"
        },
        "outputId": "4573bc80-4b87-4f1d-a404-0da18e16cb65"
      },
      "source": [
        "!apt-get -y install openjdk-8-jre-headless\n",
        "!pip install pyspark"
      ],
      "execution_count": 1,
      "outputs": [
        {
          "output_type": "stream",
          "name": "stdout",
          "text": [
            "Reading package lists... Done\n",
            "Building dependency tree       \n",
            "Reading state information... Done\n",
            "openjdk-8-jre-headless is already the newest version (8u312-b07-0ubuntu1~18.04).\n",
            "The following package was automatically installed and is no longer required:\n",
            "  libnvidia-common-460\n",
            "Use 'apt autoremove' to remove it.\n",
            "0 upgraded, 0 newly installed, 0 to remove and 42 not upgraded.\n",
            "Looking in indexes: https://pypi.org/simple, https://us-python.pkg.dev/colab-wheels/public/simple/\n",
            "Requirement already satisfied: pyspark in /usr/local/lib/python3.7/dist-packages (3.2.1)\n",
            "Requirement already satisfied: py4j==0.10.9.3 in /usr/local/lib/python3.7/dist-packages (from pyspark) (0.10.9.3)\n"
          ]
        }
      ]
    },
    {
      "cell_type": "markdown",
      "metadata": {
        "id": "HFvHwLThwFux"
      },
      "source": [
        "#### Start a simple Spark Session"
      ]
    },
    {
      "cell_type": "code",
      "metadata": {
        "collapsed": true,
        "id": "7arxkeeLwFux"
      },
      "source": [
        "from pyspark.sql import SparkSession\n",
        "spark = SparkSession.builder.appName('Walmart').getOrCreate()"
      ],
      "execution_count": 2,
      "outputs": []
    },
    {
      "cell_type": "markdown",
      "metadata": {
        "id": "0by0I8LWwFuy"
      },
      "source": [
        "#### Load the Walmart Stock CSV File, have Spark infer the data types."
      ]
    },
    {
      "cell_type": "code",
      "metadata": {
        "collapsed": true,
        "id": "tpyyb1u5wFuy"
      },
      "source": [
        "df = spark.read.csv(\"walmart_stock.csv\", header=True, inferSchema=True)"
      ],
      "execution_count": 3,
      "outputs": []
    },
    {
      "cell_type": "markdown",
      "metadata": {
        "id": "9XfzJNyEwFuy"
      },
      "source": [
        "#### What are the column names?"
      ]
    },
    {
      "cell_type": "code",
      "metadata": {
        "id": "D5Wdw6k5wFuz",
        "colab": {
          "base_uri": "https://localhost:8080/"
        },
        "outputId": "42d56eef-c667-487e-bd60-b4c28961d197"
      },
      "source": [
        "df.columns"
      ],
      "execution_count": 4,
      "outputs": [
        {
          "output_type": "execute_result",
          "data": {
            "text/plain": [
              "['Date', 'Open', 'High', 'Low', 'Close', 'Volume', 'Adj Close']"
            ]
          },
          "metadata": {},
          "execution_count": 4
        }
      ]
    },
    {
      "cell_type": "markdown",
      "metadata": {
        "id": "5nnDfs-YwFu0"
      },
      "source": [
        "#### What does the Schema look like?"
      ]
    },
    {
      "cell_type": "code",
      "metadata": {
        "id": "kDIkKcmzwFu0",
        "colab": {
          "base_uri": "https://localhost:8080/"
        },
        "outputId": "25a7d8b2-4f25-436a-946a-170d72f71ce7"
      },
      "source": [
        "df.printSchema()"
      ],
      "execution_count": 5,
      "outputs": [
        {
          "output_type": "stream",
          "name": "stdout",
          "text": [
            "root\n",
            " |-- Date: string (nullable = true)\n",
            " |-- Open: double (nullable = true)\n",
            " |-- High: double (nullable = true)\n",
            " |-- Low: double (nullable = true)\n",
            " |-- Close: double (nullable = true)\n",
            " |-- Volume: integer (nullable = true)\n",
            " |-- Adj Close: double (nullable = true)\n",
            "\n"
          ]
        }
      ]
    },
    {
      "cell_type": "markdown",
      "metadata": {
        "id": "dMlfVQeOwFu0"
      },
      "source": [
        "#### Print out the first 5 columns."
      ]
    },
    {
      "cell_type": "code",
      "metadata": {
        "id": "_QzB3nmJwFu1",
        "colab": {
          "base_uri": "https://localhost:8080/"
        },
        "outputId": "9d11a678-89bb-4b6c-f3d3-f51b68fc7aaf"
      },
      "source": [
        "for row in df.head(5):\n",
        "    print(row)\n",
        "    print(\"\\n\")"
      ],
      "execution_count": 6,
      "outputs": [
        {
          "output_type": "stream",
          "name": "stdout",
          "text": [
            "Row(Date='2012-01-03', Open=59.970001, High=61.060001, Low=59.869999, Close=60.330002, Volume=12668800, Adj Close=52.619234999999996)\n",
            "\n",
            "\n",
            "Row(Date='2012-01-04', Open=60.209998999999996, High=60.349998, Low=59.470001, Close=59.709998999999996, Volume=9593300, Adj Close=52.078475)\n",
            "\n",
            "\n",
            "Row(Date='2012-01-05', Open=59.349998, High=59.619999, Low=58.369999, Close=59.419998, Volume=12768200, Adj Close=51.825539)\n",
            "\n",
            "\n",
            "Row(Date='2012-01-06', Open=59.419998, High=59.450001, Low=58.869999, Close=59.0, Volume=8069400, Adj Close=51.45922)\n",
            "\n",
            "\n",
            "Row(Date='2012-01-09', Open=59.029999, High=59.549999, Low=58.919998, Close=59.18, Volume=6679300, Adj Close=51.616215000000004)\n",
            "\n",
            "\n"
          ]
        }
      ]
    },
    {
      "cell_type": "markdown",
      "metadata": {
        "id": "00ckfCFJwFu1"
      },
      "source": [
        "#### Use describe() to learn about the DataFrame."
      ]
    },
    {
      "cell_type": "code",
      "metadata": {
        "id": "yvS8dfD5wFu1",
        "colab": {
          "base_uri": "https://localhost:8080/"
        },
        "outputId": "090b6894-2a6d-48b4-e4da-2a1bc72d6fdc"
      },
      "source": [
        "df.describe().show()"
      ],
      "execution_count": 7,
      "outputs": [
        {
          "output_type": "stream",
          "name": "stdout",
          "text": [
            "+-------+----------+------------------+-----------------+-----------------+-----------------+-----------------+-----------------+\n",
            "|summary|      Date|              Open|             High|              Low|            Close|           Volume|        Adj Close|\n",
            "+-------+----------+------------------+-----------------+-----------------+-----------------+-----------------+-----------------+\n",
            "|  count|      1258|              1258|             1258|             1258|             1258|             1258|             1258|\n",
            "|   mean|      null| 72.35785375357709|72.83938807631165| 71.9186009594594|72.38844998012726|8222093.481717011|67.23883848728146|\n",
            "| stddev|      null|  6.76809024470826|6.768186808159218|6.744075756255496|6.756859163732991|  4519780.8431556|6.722609449996857|\n",
            "|    min|2012-01-03|56.389998999999996|        57.060001|        56.299999|        56.419998|          2094900|        50.363689|\n",
            "|    max|2016-12-30|         90.800003|        90.970001|            89.25|        90.470001|         80898100|84.91421600000001|\n",
            "+-------+----------+------------------+-----------------+-----------------+-----------------+-----------------+-----------------+\n",
            "\n"
          ]
        }
      ]
    },
    {
      "cell_type": "code",
      "metadata": {
        "id": "L330C5ESwFu2",
        "colab": {
          "base_uri": "https://localhost:8080/"
        },
        "outputId": "283a6ace-76ad-4285-8450-a5abc8c1ca63"
      },
      "source": [
        "# Uh oh Strings! \n",
        "df.describe().printSchema()"
      ],
      "execution_count": 8,
      "outputs": [
        {
          "output_type": "stream",
          "name": "stdout",
          "text": [
            "root\n",
            " |-- summary: string (nullable = true)\n",
            " |-- Date: string (nullable = true)\n",
            " |-- Open: string (nullable = true)\n",
            " |-- High: string (nullable = true)\n",
            " |-- Low: string (nullable = true)\n",
            " |-- Close: string (nullable = true)\n",
            " |-- Volume: string (nullable = true)\n",
            " |-- Adj Close: string (nullable = true)\n",
            "\n"
          ]
        }
      ]
    },
    {
      "cell_type": "code",
      "metadata": {
        "collapsed": true,
        "id": "P9ZaNJKowFu2"
      },
      "source": [
        "from pyspark.sql.functions import format_number"
      ],
      "execution_count": 9,
      "outputs": []
    },
    {
      "cell_type": "code",
      "metadata": {
        "colab": {
          "base_uri": "https://localhost:8080/"
        },
        "id": "eHruhpOmTfAE",
        "outputId": "ae171b2a-6549-4d46-fe67-e8c48d855518"
      },
      "source": [
        "result = df.describe()\n",
        "result.select(result['summary'],\n",
        "              format_number(result['Open'].cast('float'),2).alias('Open'),\n",
        "              result['Volume'].cast('int').alias('Volume')\n",
        "             ).show()"
      ],
      "execution_count": 10,
      "outputs": [
        {
          "output_type": "stream",
          "name": "stdout",
          "text": [
            "+-------+--------+--------+\n",
            "|summary|    Open|  Volume|\n",
            "+-------+--------+--------+\n",
            "|  count|1,258.00|    1258|\n",
            "|   mean|   72.36| 8222093|\n",
            "| stddev|    6.77| 4519780|\n",
            "|    min|   56.39| 2094900|\n",
            "|    max|   90.80|80898100|\n",
            "+-------+--------+--------+\n",
            "\n"
          ]
        }
      ]
    },
    {
      "cell_type": "markdown",
      "metadata": {
        "id": "ENE6-vPuTj6E"
      },
      "source": [
        "**Check Point 3**\n",
        "\n",
        "format Open, High, Low, Close, Volume,  Adj Close"
      ]
    },
    {
      "cell_type": "code",
      "metadata": {
        "id": "j0mBQiV8wFu2",
        "colab": {
          "base_uri": "https://localhost:8080/"
        },
        "outputId": "38f98b50-f623-4b45-c8ec-2672083b2b96"
      },
      "source": [
        "result = df.describe()\n",
        "result.select(result['summary'],\n",
        "              format_number(result['Open'].cast('float'),2).alias('Open'),\n",
        "              format_number(result['High'].cast('float'),2).alias('High'),\n",
        "              format_number(result['Low'].cast('float'),2).alias('Low'),\n",
        "              format_number(result['Close'].cast('float'),2).alias('Close'),\n",
        "              result['Volume'].cast('int').alias('Volume')\n",
        "             ).show()"
      ],
      "execution_count": 11,
      "outputs": [
        {
          "output_type": "stream",
          "name": "stdout",
          "text": [
            "+-------+--------+--------+--------+--------+--------+\n",
            "|summary|    Open|    High|     Low|   Close|  Volume|\n",
            "+-------+--------+--------+--------+--------+--------+\n",
            "|  count|1,258.00|1,258.00|1,258.00|1,258.00|    1258|\n",
            "|   mean|   72.36|   72.84|   71.92|   72.39| 8222093|\n",
            "| stddev|    6.77|    6.77|    6.74|    6.76| 4519780|\n",
            "|    min|   56.39|   57.06|   56.30|   56.42| 2094900|\n",
            "|    max|   90.80|   90.97|   89.25|   90.47|80898100|\n",
            "+-------+--------+--------+--------+--------+--------+\n",
            "\n"
          ]
        }
      ]
    },
    {
      "cell_type": "markdown",
      "metadata": {
        "id": "dfXkOlm3wFu3"
      },
      "source": [
        "#### Create a new dataframe with a column called HV Ratio that is the ratio of the High Price versus volume of stock traded for a day."
      ]
    },
    {
      "cell_type": "code",
      "metadata": {
        "id": "VBTntbdWwFu3",
        "colab": {
          "base_uri": "https://localhost:8080/"
        },
        "outputId": "698a438f-f6da-4779-e155-87f3e276d396"
      },
      "source": [
        "df2 = df.withColumn(\"HV Ratio\", df[\"high\"]/df[\"Volume\"])\n",
        "# df2.show()\n",
        "df2.select(\"HV Ratio\").show()"
      ],
      "execution_count": 12,
      "outputs": [
        {
          "output_type": "stream",
          "name": "stdout",
          "text": [
            "+--------------------+\n",
            "|            HV Ratio|\n",
            "+--------------------+\n",
            "|4.819714653321546E-6|\n",
            "|6.290848613094555E-6|\n",
            "|4.669412994783916E-6|\n",
            "|7.367338463826307E-6|\n",
            "|8.915604778943901E-6|\n",
            "|8.644477436914568E-6|\n",
            "|9.351828421515645E-6|\n",
            "| 8.29141562102703E-6|\n",
            "|7.712212102001476E-6|\n",
            "|7.071764823529412E-6|\n",
            "|1.015495466386981E-5|\n",
            "|6.576354146362592...|\n",
            "| 5.90145296180676E-6|\n",
            "|8.547679455011844E-6|\n",
            "|8.420709512685392E-6|\n",
            "|1.041448341728929...|\n",
            "|8.316075414862431E-6|\n",
            "|9.721183814992126E-6|\n",
            "|8.029436027707578E-6|\n",
            "|6.307432259386365E-6|\n",
            "+--------------------+\n",
            "only showing top 20 rows\n",
            "\n"
          ]
        }
      ]
    },
    {
      "cell_type": "markdown",
      "metadata": {
        "id": "pASph43NwFu3"
      },
      "source": [
        "#### What day had the Peak High in Price?"
      ]
    },
    {
      "cell_type": "code",
      "metadata": {
        "id": "axinjqWJwFu3",
        "colab": {
          "base_uri": "https://localhost:8080/",
          "height": 35
        },
        "outputId": "e325d967-50f1-454d-a9e9-7337a05c57e1"
      },
      "source": [
        "# Didn't need to really do this much indexing\n",
        "# Could have just shown the entire row\n",
        "df.orderBy(df[\"High\"].desc()).head(1)[0][0]"
      ],
      "execution_count": 13,
      "outputs": [
        {
          "output_type": "execute_result",
          "data": {
            "text/plain": [
              "'2015-01-13'"
            ],
            "application/vnd.google.colaboratory.intrinsic+json": {
              "type": "string"
            }
          },
          "metadata": {},
          "execution_count": 13
        }
      ]
    },
    {
      "cell_type": "markdown",
      "metadata": {
        "id": "lMjRIo2dwFu4"
      },
      "source": [
        "#### What is the mean of the Close column?"
      ]
    },
    {
      "cell_type": "code",
      "metadata": {
        "id": "UeHECgHBwFu4",
        "colab": {
          "base_uri": "https://localhost:8080/"
        },
        "outputId": "9ef8e7f0-4e22-496e-e6ec-b198ed763f3c"
      },
      "source": [
        "# Also could have gotten this from describe()\n",
        "from pyspark.sql.functions import mean\n",
        "df.select(mean(\"close\")).show()"
      ],
      "execution_count": 14,
      "outputs": [
        {
          "output_type": "stream",
          "name": "stdout",
          "text": [
            "+-----------------+\n",
            "|       avg(close)|\n",
            "+-----------------+\n",
            "|72.38844998012726|\n",
            "+-----------------+\n",
            "\n"
          ]
        }
      ]
    },
    {
      "cell_type": "markdown",
      "metadata": {
        "id": "sidgNJrKwFu4"
      },
      "source": [
        "**Check Point 4**\n",
        "\n",
        "What is the max and min of the Volume column?"
      ]
    },
    {
      "cell_type": "code",
      "metadata": {
        "collapsed": true,
        "id": "xn1YP2fPwFu4"
      },
      "source": [
        "# Could have also used describe\n",
        "from pyspark.sql.functions import min, max"
      ],
      "execution_count": 15,
      "outputs": []
    },
    {
      "cell_type": "code",
      "metadata": {
        "id": "3-F26yP0wFu4",
        "colab": {
          "base_uri": "https://localhost:8080/"
        },
        "outputId": "d1d6b833-537b-4156-af0f-96fb23bc942f"
      },
      "source": [
        "df.select(max(\"Volume\"), min(\"Volume\")).show()"
      ],
      "execution_count": 16,
      "outputs": [
        {
          "output_type": "stream",
          "name": "stdout",
          "text": [
            "+-----------+-----------+\n",
            "|max(Volume)|min(Volume)|\n",
            "+-----------+-----------+\n",
            "|   80898100|    2094900|\n",
            "+-----------+-----------+\n",
            "\n"
          ]
        }
      ]
    },
    {
      "cell_type": "markdown",
      "metadata": {
        "id": "at1YAUjAwFu5"
      },
      "source": [
        "#### How many days was the Close lower than 60 dollars?"
      ]
    },
    {
      "cell_type": "code",
      "metadata": {
        "id": "FL-hKmKrwFu5",
        "colab": {
          "base_uri": "https://localhost:8080/"
        },
        "outputId": "5878e0a9-ec56-4567-e583-3cc7611b3c51"
      },
      "source": [
        "df.filter(\"Close < 60\").count()"
      ],
      "execution_count": 17,
      "outputs": [
        {
          "output_type": "execute_result",
          "data": {
            "text/plain": [
              "81"
            ]
          },
          "metadata": {},
          "execution_count": 17
        }
      ]
    },
    {
      "cell_type": "code",
      "metadata": {
        "colab": {
          "base_uri": "https://localhost:8080/"
        },
        "id": "sE3JC6EyW1fq",
        "outputId": "8ecf165e-1c29-4dbd-f8bc-fb840f7164d6"
      },
      "source": [
        "df.filter(df[\"Close\"] < 60).count()"
      ],
      "execution_count": 18,
      "outputs": [
        {
          "output_type": "execute_result",
          "data": {
            "text/plain": [
              "81"
            ]
          },
          "metadata": {},
          "execution_count": 18
        }
      ]
    },
    {
      "cell_type": "code",
      "metadata": {
        "id": "DU4shbl1wFu5",
        "colab": {
          "base_uri": "https://localhost:8080/"
        },
        "outputId": "3c8ff0fa-b0ea-409f-911c-4271e1e083f0"
      },
      "source": [
        "from pyspark.sql.functions import count\n",
        "result = df.filter(df[\"Close\"] < 60)\n",
        "result.select(count(\"Close\")).show()"
      ],
      "execution_count": 19,
      "outputs": [
        {
          "output_type": "stream",
          "name": "stdout",
          "text": [
            "+------------+\n",
            "|count(Close)|\n",
            "+------------+\n",
            "|          81|\n",
            "+------------+\n",
            "\n"
          ]
        }
      ]
    },
    {
      "cell_type": "markdown",
      "metadata": {
        "id": "-mjRQsNLwFu6"
      },
      "source": [
        "#### What percentage of the time was the High greater than 80 dollars ?\n",
        "#### In other words, (Number of Days High>80)/(Total Days in the dataset)"
      ]
    },
    {
      "cell_type": "code",
      "metadata": {
        "id": "PW2J1bUTwFu6",
        "colab": {
          "base_uri": "https://localhost:8080/"
        },
        "outputId": "9d098117-368a-4c41-efda-c5214facf869"
      },
      "source": [
        "(df.filter(df[\"High\"] > 80).count() * 1.0 / df.count()) * 100"
      ],
      "execution_count": 20,
      "outputs": [
        {
          "output_type": "execute_result",
          "data": {
            "text/plain": [
              "9.141494435612083"
            ]
          },
          "metadata": {},
          "execution_count": 20
        }
      ]
    },
    {
      "cell_type": "markdown",
      "metadata": {
        "id": "4EFdzaC_wFu6"
      },
      "source": [
        "#### What is the Pearson correlation between High and Volume?\n"
      ]
    },
    {
      "cell_type": "code",
      "metadata": {
        "id": "Y2231j4JwFu6",
        "colab": {
          "base_uri": "https://localhost:8080/"
        },
        "outputId": "c6048b59-5064-4497-b4d7-4201fcf72ffe"
      },
      "source": [
        "from pyspark.sql.functions import corr\n",
        "df.select(corr(\"High\", \"Volume\")).show()"
      ],
      "execution_count": 21,
      "outputs": [
        {
          "output_type": "stream",
          "name": "stdout",
          "text": [
            "+-------------------+\n",
            "| corr(High, Volume)|\n",
            "+-------------------+\n",
            "|-0.3384326061737161|\n",
            "+-------------------+\n",
            "\n"
          ]
        }
      ]
    },
    {
      "cell_type": "markdown",
      "metadata": {
        "id": "8HtPvTfXwFu7"
      },
      "source": [
        "#### What is the max High per year?"
      ]
    },
    {
      "cell_type": "code",
      "metadata": {
        "collapsed": true,
        "id": "TzQWGtRPwFu7"
      },
      "source": [
        "from pyspark.sql.functions import year\n",
        "yeardf = df.withColumn(\"Year\", year(df[\"Date\"]))"
      ],
      "execution_count": 22,
      "outputs": []
    },
    {
      "cell_type": "code",
      "metadata": {
        "id": "oRRC7cVXwFu7",
        "colab": {
          "base_uri": "https://localhost:8080/"
        },
        "outputId": "ff2b8f95-d160-4fc8-f31a-f6defda1c504"
      },
      "source": [
        "max_df = yeardf.groupBy(\"Year\").max()\n",
        "# 2015\n",
        "max_df.select(\"Year\", \"max(High)\").show()"
      ],
      "execution_count": 23,
      "outputs": [
        {
          "output_type": "stream",
          "name": "stdout",
          "text": [
            "+----+---------+\n",
            "|Year|max(High)|\n",
            "+----+---------+\n",
            "|2015|90.970001|\n",
            "|2013|81.370003|\n",
            "|2014|88.089996|\n",
            "|2012|77.599998|\n",
            "|2016|75.190002|\n",
            "+----+---------+\n",
            "\n"
          ]
        }
      ]
    },
    {
      "cell_type": "markdown",
      "metadata": {
        "id": "EfCwaO6rZaAT"
      },
      "source": [
        "\n",
        "#### What is the max Close for each Calendar Month?\n",
        "#### In other words, across all the years, what is the max Close price for Jan,Feb, Mar, etc... Your result will have a value for each of these months."
      ]
    },
    {
      "cell_type": "code",
      "metadata": {
        "colab": {
          "base_uri": "https://localhost:8080/"
        },
        "id": "kpGFiNrzZZMI",
        "outputId": "f40b3abb-f02f-488c-bd3b-6c42db559341"
      },
      "source": [
        "from pyspark.sql.functions import month\n",
        "monthdf = df.withColumn(\"Month\", month(\"Date\"))\n",
        "monthmax = monthdf.select(\"Month\", \"Close\").groupBy(\"Month\").max()\n",
        "monthmax.select(\"Month\", \"max(Close)\").orderBy(\"Month\").show()"
      ],
      "execution_count": 24,
      "outputs": [
        {
          "output_type": "stream",
          "name": "stdout",
          "text": [
            "+-----+-----------------+\n",
            "|Month|       max(Close)|\n",
            "+-----+-----------------+\n",
            "|    1|        90.470001|\n",
            "|    2|87.33000200000001|\n",
            "|    3|        83.959999|\n",
            "|    4|        81.029999|\n",
            "|    5|79.91999799999999|\n",
            "|    6|            77.32|\n",
            "|    7|        78.550003|\n",
            "|    8|        78.769997|\n",
            "|    9|        77.510002|\n",
            "|   10|        78.290001|\n",
            "|   11|        87.540001|\n",
            "|   12|        86.910004|\n",
            "+-----+-----------------+\n",
            "\n"
          ]
        }
      ]
    },
    {
      "cell_type": "markdown",
      "metadata": {
        "id": "dkgGoLmrwFu7"
      },
      "source": [
        "**Check Point 5**\n",
        "\n",
        "#### What is the average Close for each Calendar Month?\n",
        "#### In other words, across all the years, what is the average Close price for Jan,Feb, Mar, etc... Your result will have a value for each of these months. "
      ]
    },
    {
      "cell_type": "code",
      "metadata": {
        "id": "cw-h8jxqwFu7",
        "colab": {
          "base_uri": "https://localhost:8080/"
        },
        "outputId": "ea0ecd77-bf2d-444c-dd8b-2ac79dea8e83"
      },
      "source": [
        "monthdf = df.withColumn(\"Month\", month(\"Date\"))\n",
        "monthmean = monthdf.select(\"Month\", \"Close\").groupBy(\"Month\").mean()\n",
        "monthmean.select(\"Month\", \"avg(Close)\").orderBy(\"Month\").show()"
      ],
      "execution_count": 25,
      "outputs": [
        {
          "output_type": "stream",
          "name": "stdout",
          "text": [
            "+-----+-----------------+\n",
            "|Month|       avg(Close)|\n",
            "+-----+-----------------+\n",
            "|    1|71.44801958415842|\n",
            "|    2|  71.306804443299|\n",
            "|    3|71.77794377570092|\n",
            "|    4|72.97361900952382|\n",
            "|    5|72.30971688679247|\n",
            "|    6| 72.4953774245283|\n",
            "|    7|74.43971943925233|\n",
            "|    8|73.02981855454546|\n",
            "|    9|72.18411785294116|\n",
            "|   10|71.57854545454543|\n",
            "|   11| 72.1110893069307|\n",
            "|   12|72.84792478301885|\n",
            "+-----+-----------------+\n",
            "\n"
          ]
        }
      ]
    },
    {
      "cell_type": "markdown",
      "metadata": {
        "id": "pNYw0uiKwFu8"
      },
      "source": [
        "# Great Job!\n",
        "## Remember to upload this notebook file to new E3\n",
        "## Check point 6: 0.5 points"
      ]
    }
  ]
}
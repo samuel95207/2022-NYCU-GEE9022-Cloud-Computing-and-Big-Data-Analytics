{
  "nbformat": 4,
  "nbformat_minor": 0,
  "metadata": {
    "kernelspec": {
      "display_name": "Python 3",
      "language": "python",
      "name": "python3"
    },
    "language_info": {
      "codemirror_mode": {
        "name": "ipython",
        "version": 3
      },
      "file_extension": ".py",
      "mimetype": "text/x-python",
      "name": "python",
      "nbconvert_exporter": "python",
      "pygments_lexer": "ipython3",
      "version": "3.5.2"
    },
    "colab": {
      "name": "[Student] 2022-Lab-3-1_PySpark_WarmUp.ipynb",
      "provenance": [],
      "collapsed_sections": []
    }
  },
  "cells": [
    {
      "cell_type": "markdown",
      "metadata": {
        "id": "FdyKnoNw_nYA"
      },
      "source": [
        "# Installation for Pyspark\n",
        "\n",
        "\n"
      ]
    },
    {
      "cell_type": "code",
      "metadata": {
        "id": "QMoro5Zl5bm9",
        "colab": {
          "base_uri": "https://localhost:8080/"
        },
        "outputId": "aecd767c-02f6-4ecd-e0ce-b4688b760ed0"
      },
      "source": [
        "!apt-get -y install openjdk-8-jre-headless\n",
        "!pip install pyspark\n",
        "\n",
        "# Check Point 1: 0.5 points"
      ],
      "execution_count": 1,
      "outputs": [
        {
          "output_type": "stream",
          "name": "stdout",
          "text": [
            "Reading package lists... Done\n",
            "Building dependency tree       \n",
            "Reading state information... Done\n",
            "openjdk-8-jre-headless is already the newest version (8u312-b07-0ubuntu1~18.04).\n",
            "The following package was automatically installed and is no longer required:\n",
            "  libnvidia-common-460\n",
            "Use 'apt autoremove' to remove it.\n",
            "0 upgraded, 0 newly installed, 0 to remove and 42 not upgraded.\n",
            "Looking in indexes: https://pypi.org/simple, https://us-python.pkg.dev/colab-wheels/public/simple/\n",
            "Requirement already satisfied: pyspark in /usr/local/lib/python3.7/dist-packages (3.2.1)\n",
            "Requirement already satisfied: py4j==0.10.9.3 in /usr/local/lib/python3.7/dist-packages (from pyspark) (0.10.9.3)\n"
          ]
        }
      ]
    },
    {
      "cell_type": "markdown",
      "metadata": {
        "id": "11GHuwQNNnOI"
      },
      "source": [
        "#### Start a simple Spark Session"
      ]
    },
    {
      "cell_type": "code",
      "metadata": {
        "id": "f-a5o5sQ_ZgF"
      },
      "source": [
        "import pyspark\n",
        "from pyspark.sql import SparkSession\n",
        "from pyspark.sql.types import StringType, StructType, IntegerType, StructField\n",
        "\n",
        "spark = SparkSession.builder.appName('Warmup').getOrCreate()"
      ],
      "execution_count": 2,
      "outputs": []
    },
    {
      "cell_type": "markdown",
      "metadata": {
        "id": "k3JX8kmDNudQ"
      },
      "source": [
        "Data Schema"
      ]
    },
    {
      "cell_type": "code",
      "metadata": {
        "id": "3GY9sp5I5bnD"
      },
      "source": [
        "data_schema = [StructField('age', IntegerType(), True),\n",
        "               StructField('name', StringType(), True)]\n",
        "final_struc = StructType(fields=data_schema)"
      ],
      "execution_count": 3,
      "outputs": []
    },
    {
      "cell_type": "markdown",
      "metadata": {
        "id": "9962yCcqODQY"
      },
      "source": [
        "Load the people.json gile, have Spark infer the data types."
      ]
    },
    {
      "cell_type": "code",
      "metadata": {
        "id": "mdXIPRDhNiqz"
      },
      "source": [
        "df = spark.read.json('people.json', schema=final_struc)"
      ],
      "execution_count": 4,
      "outputs": []
    },
    {
      "cell_type": "markdown",
      "metadata": {
        "id": "xhbCvaK3O0Kc"
      },
      "source": [
        "#### What are the column names?"
      ]
    },
    {
      "cell_type": "code",
      "metadata": {
        "id": "6Hj4NFfg5bnE",
        "colab": {
          "base_uri": "https://localhost:8080/"
        },
        "outputId": "6b088e91-7632-484b-f350-5b9cd9d7c178"
      },
      "source": [
        "df.columns"
      ],
      "execution_count": 5,
      "outputs": [
        {
          "output_type": "execute_result",
          "data": {
            "text/plain": [
              "['age', 'name']"
            ]
          },
          "metadata": {},
          "execution_count": 5
        }
      ]
    },
    {
      "cell_type": "markdown",
      "metadata": {
        "id": "DtAfnmz-O8Zz"
      },
      "source": [
        "#### What is the schema?"
      ]
    },
    {
      "cell_type": "code",
      "metadata": {
        "id": "d6q1-wnJO9wM",
        "colab": {
          "base_uri": "https://localhost:8080/"
        },
        "outputId": "c9050f81-3aaa-4a68-c580-c3d9acd17805"
      },
      "source": [
        "df.printSchema()"
      ],
      "execution_count": 6,
      "outputs": [
        {
          "output_type": "stream",
          "name": "stdout",
          "text": [
            "root\n",
            " |-- age: integer (nullable = true)\n",
            " |-- name: string (nullable = true)\n",
            "\n"
          ]
        }
      ]
    },
    {
      "cell_type": "markdown",
      "metadata": {
        "id": "uf1e8v8NPGDR"
      },
      "source": [
        "Show whole DataFrame "
      ]
    },
    {
      "cell_type": "code",
      "metadata": {
        "id": "OTKCp3DkPGdB",
        "colab": {
          "base_uri": "https://localhost:8080/"
        },
        "outputId": "e1c987da-5ea9-4f40-c223-da47c62821e4"
      },
      "source": [
        "df.show()"
      ],
      "execution_count": 7,
      "outputs": [
        {
          "output_type": "stream",
          "name": "stdout",
          "text": [
            "+----+-------+\n",
            "| age|   name|\n",
            "+----+-------+\n",
            "|null|Michael|\n",
            "|  30|   Andy|\n",
            "|  19| Justin|\n",
            "+----+-------+\n",
            "\n"
          ]
        }
      ]
    },
    {
      "cell_type": "markdown",
      "metadata": {
        "id": "g02HDXuhPRSB"
      },
      "source": [
        "Print out the first 2 rows."
      ]
    },
    {
      "cell_type": "code",
      "metadata": {
        "id": "EjRovtRqPTf6",
        "colab": {
          "base_uri": "https://localhost:8080/"
        },
        "outputId": "24ce7e1b-da2a-4c7a-bb42-cab6183e32b7"
      },
      "source": [
        "for row in df.head(2):\n",
        "    print(row)\n",
        "    print(\"\\n\")"
      ],
      "execution_count": 8,
      "outputs": [
        {
          "output_type": "stream",
          "name": "stdout",
          "text": [
            "Row(age=None, name='Michael')\n",
            "\n",
            "\n",
            "Row(age=30, name='Andy')\n",
            "\n",
            "\n"
          ]
        }
      ]
    },
    {
      "cell_type": "markdown",
      "metadata": {
        "id": "5GsRKjq4Pb3c"
      },
      "source": [
        "Use describe() to learn about the DataFrame"
      ]
    },
    {
      "cell_type": "code",
      "metadata": {
        "id": "hHCzibjUPdrM",
        "colab": {
          "base_uri": "https://localhost:8080/"
        },
        "outputId": "c23744bd-19e9-4d81-f38e-d0e6e0338077"
      },
      "source": [
        "df.describe()"
      ],
      "execution_count": 9,
      "outputs": [
        {
          "output_type": "execute_result",
          "data": {
            "text/plain": [
              "DataFrame[summary: string, age: string, name: string]"
            ]
          },
          "metadata": {},
          "execution_count": 9
        }
      ]
    },
    {
      "cell_type": "markdown",
      "metadata": {
        "id": "EIiSknW9P-5D"
      },
      "source": [
        "Use another data frame to learn about the statistical report"
      ]
    },
    {
      "cell_type": "code",
      "metadata": {
        "id": "MyCnoHfEP8zi",
        "colab": {
          "base_uri": "https://localhost:8080/"
        },
        "outputId": "5dbbaf70-f6ef-4221-9a6e-5ffe689db487"
      },
      "source": [
        "temp = df.describe()\n",
        "temp.show()"
      ],
      "execution_count": 10,
      "outputs": [
        {
          "output_type": "stream",
          "name": "stdout",
          "text": [
            "+-------+------------------+-------+\n",
            "|summary|               age|   name|\n",
            "+-------+------------------+-------+\n",
            "|  count|                 2|      3|\n",
            "|   mean|              24.5|   null|\n",
            "| stddev|7.7781745930520225|   null|\n",
            "|    min|                19|   Andy|\n",
            "|    max|                30|Michael|\n",
            "+-------+------------------+-------+\n",
            "\n"
          ]
        }
      ]
    },
    {
      "cell_type": "markdown",
      "metadata": {
        "id": "g7p7JJqpPtEk"
      },
      "source": [
        "There are too many decimal places for mean and stddev in the describe() dataframe.   \n",
        "How to deal with it?"
      ]
    },
    {
      "cell_type": "code",
      "metadata": {
        "id": "zHaS2zDCRMMk"
      },
      "source": [
        "from pyspark.sql.functions import format_number"
      ],
      "execution_count": 11,
      "outputs": []
    },
    {
      "cell_type": "code",
      "metadata": {
        "id": "E9nidaDmP0Go",
        "colab": {
          "base_uri": "https://localhost:8080/"
        },
        "outputId": "b20b345e-2469-40f2-9b3b-ca678e56570f"
      },
      "source": [
        "result = df.describe()\n",
        "result.select(result[\"summary\"],\n",
        "              format_number(result[\"age\"].cast(\"float\"), 2).alias(\"age\")\n",
        "              ).show()"
      ],
      "execution_count": 12,
      "outputs": [
        {
          "output_type": "stream",
          "name": "stdout",
          "text": [
            "+-------+-----+\n",
            "|summary|  age|\n",
            "+-------+-----+\n",
            "|  count| 2.00|\n",
            "|   mean|24.50|\n",
            "| stddev| 7.78|\n",
            "|    min|19.00|\n",
            "|    max|30.00|\n",
            "+-------+-----+\n",
            "\n"
          ]
        }
      ]
    },
    {
      "cell_type": "markdown",
      "metadata": {
        "id": "NWFzUNzLRrRc"
      },
      "source": [
        "Get the mean of age directly"
      ]
    },
    {
      "cell_type": "code",
      "metadata": {
        "id": "F7OkBnMZ5bnF",
        "colab": {
          "base_uri": "https://localhost:8080/"
        },
        "outputId": "8afbce11-bdd8-49f9-fd0a-e72a2875effc"
      },
      "source": [
        "from pyspark.sql.functions import mean\n",
        "df.select(mean(\"age\")).show()"
      ],
      "execution_count": 13,
      "outputs": [
        {
          "output_type": "stream",
          "name": "stdout",
          "text": [
            "+--------+\n",
            "|avg(age)|\n",
            "+--------+\n",
            "|    24.5|\n",
            "+--------+\n",
            "\n"
          ]
        }
      ]
    },
    {
      "cell_type": "markdown",
      "metadata": {
        "id": "0sZSs0YeSpuS"
      },
      "source": [
        "What is the max and min of the Volume column?"
      ]
    },
    {
      "cell_type": "code",
      "metadata": {
        "id": "YSpUUJaSSrxd",
        "colab": {
          "base_uri": "https://localhost:8080/"
        },
        "outputId": "663ae09a-8763-4390-aa90-8ca1cce8d5e3"
      },
      "source": [
        "from pyspark.sql.functions import min, max\n",
        "df.select(max(\"age\"), min(\"age\")).show()"
      ],
      "execution_count": 14,
      "outputs": [
        {
          "output_type": "stream",
          "name": "stdout",
          "text": [
            "+--------+--------+\n",
            "|max(age)|min(age)|\n",
            "+--------+--------+\n",
            "|      30|      19|\n",
            "+--------+--------+\n",
            "\n"
          ]
        }
      ]
    },
    {
      "cell_type": "markdown",
      "metadata": {
        "id": "7E2XNGa_S1iA"
      },
      "source": [
        "How many people whose age smaller than 30?"
      ]
    },
    {
      "cell_type": "code",
      "metadata": {
        "id": "TVsXwce9S1vP",
        "colab": {
          "base_uri": "https://localhost:8080/"
        },
        "outputId": "6a95d0ad-b6bd-44cc-ce1f-c424b1a59618"
      },
      "source": [
        "df.filter(\"age < 30\").count()"
      ],
      "execution_count": 15,
      "outputs": [
        {
          "output_type": "execute_result",
          "data": {
            "text/plain": [
              "1"
            ]
          },
          "metadata": {},
          "execution_count": 15
        }
      ]
    },
    {
      "cell_type": "code",
      "metadata": {
        "id": "25qMbjf-TKtH",
        "colab": {
          "base_uri": "https://localhost:8080/"
        },
        "outputId": "1c9b1c60-153d-464e-def3-9a9569ca7d0d"
      },
      "source": [
        "from pyspark.sql.functions import count\n",
        "result = df.filter(df[\"age\"] < 30)\n",
        "result.select(count(\"age\")).show()"
      ],
      "execution_count": 16,
      "outputs": [
        {
          "output_type": "stream",
          "name": "stdout",
          "text": [
            "+----------+\n",
            "|count(age)|\n",
            "+----------+\n",
            "|         1|\n",
            "+----------+\n",
            "\n"
          ]
        }
      ]
    },
    {
      "cell_type": "markdown",
      "metadata": {
        "id": "H05rcM00PH-c"
      },
      "source": [
        "**Checkpoint 2 - 0.5 point** \n",
        "\n",
        "How many people whose age larger than 18?"
      ]
    },
    {
      "cell_type": "code",
      "metadata": {
        "id": "1BY73dI1PPsL",
        "outputId": "34d2c366-9c76-42d5-d30e-fa9e566acf0c",
        "colab": {
          "base_uri": "https://localhost:8080/"
        }
      },
      "source": [
        "result = df.filter(df[\"age\"] > 18)\n",
        "result.select(count(\"age\")).show()"
      ],
      "execution_count": 17,
      "outputs": [
        {
          "output_type": "stream",
          "name": "stdout",
          "text": [
            "+----------+\n",
            "|count(age)|\n",
            "+----------+\n",
            "|         2|\n",
            "+----------+\n",
            "\n"
          ]
        }
      ]
    }
  ]
}
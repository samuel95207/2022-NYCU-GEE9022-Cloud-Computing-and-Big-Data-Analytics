{
  "nbformat": 4,
  "nbformat_minor": 0,
  "metadata": {
    "kernelspec": {
      "display_name": "Python 3",
      "language": "python",
      "name": "python3"
    },
    "language_info": {
      "codemirror_mode": {
        "name": "ipython",
        "version": 3
      },
      "file_extension": ".py",
      "mimetype": "text/x-python",
      "name": "python",
      "nbconvert_exporter": "python",
      "pygments_lexer": "ipython3",
      "version": "3.5.2"
    },
    "colab": {
      "name": "[Student] 2022-Lab-3-1_PySpark_WarmUp.ipynb",
      "provenance": [],
      "collapsed_sections": []
    }
  },
  "cells": [
    {
      "cell_type": "markdown",
      "metadata": {
        "id": "FdyKnoNw_nYA"
      },
      "source": [
        "# Installation for Pyspark\n",
        "\n",
        "\n"
      ]
    },
    {
      "cell_type": "code",
      "metadata": {
        "id": "QMoro5Zl5bm9",
        "colab": {
          "base_uri": "https://localhost:8080/"
        },
        "outputId": "fa563a3a-68fa-4e4c-d9fb-4d3d6c80600d"
      },
      "source": [
        "!apt-get -y install openjdk-8-jre-headless\n",
        "!pip install pyspark\n",
        "\n",
        "# Check Point 1: 0.5 points"
      ],
      "execution_count": null,
      "outputs": [
        {
          "output_type": "stream",
          "text": [
            "Reading package lists... Done\n",
            "Building dependency tree       \n",
            "Reading state information... Done\n",
            "Suggested packages:\n",
            "  libnss-mdns fonts-dejavu-extra fonts-ipafont-gothic fonts-ipafont-mincho\n",
            "  fonts-wqy-microhei fonts-wqy-zenhei fonts-indic\n",
            "The following NEW packages will be installed:\n",
            "  openjdk-8-jre-headless\n",
            "0 upgraded, 1 newly installed, 0 to remove and 39 not upgraded.\n",
            "Need to get 28.2 MB of archives.\n",
            "After this operation, 104 MB of additional disk space will be used.\n",
            "Get:1 http://archive.ubuntu.com/ubuntu bionic-updates/universe amd64 openjdk-8-jre-headless amd64 8u292-b10-0ubuntu1~18.04 [28.2 MB]\n",
            "Fetched 28.2 MB in 2s (15.9 MB/s)\n",
            "Selecting previously unselected package openjdk-8-jre-headless:amd64.\n",
            "(Reading database ... 160772 files and directories currently installed.)\n",
            "Preparing to unpack .../openjdk-8-jre-headless_8u292-b10-0ubuntu1~18.04_amd64.deb ...\n",
            "Unpacking openjdk-8-jre-headless:amd64 (8u292-b10-0ubuntu1~18.04) ...\n",
            "Setting up openjdk-8-jre-headless:amd64 (8u292-b10-0ubuntu1~18.04) ...\n",
            "update-alternatives: using /usr/lib/jvm/java-8-openjdk-amd64/jre/bin/orbd to provide /usr/bin/orbd (orbd) in auto mode\n",
            "update-alternatives: using /usr/lib/jvm/java-8-openjdk-amd64/jre/bin/servertool to provide /usr/bin/servertool (servertool) in auto mode\n",
            "update-alternatives: using /usr/lib/jvm/java-8-openjdk-amd64/jre/bin/tnameserv to provide /usr/bin/tnameserv (tnameserv) in auto mode\n",
            "Collecting pyspark\n",
            "\u001b[?25l  Downloading https://files.pythonhosted.org/packages/89/db/e18cfd78e408de957821ec5ca56de1250645b05f8523d169803d8df35a64/pyspark-3.1.2.tar.gz (212.4MB)\n",
            "\u001b[K     |████████████████████████████████| 212.4MB 63kB/s \n",
            "\u001b[?25hCollecting py4j==0.10.9\n",
            "\u001b[?25l  Downloading https://files.pythonhosted.org/packages/9e/b6/6a4fb90cd235dc8e265a6a2067f2a2c99f0d91787f06aca4bcf7c23f3f80/py4j-0.10.9-py2.py3-none-any.whl (198kB)\n",
            "\u001b[K     |████████████████████████████████| 204kB 19.1MB/s \n",
            "\u001b[?25hBuilding wheels for collected packages: pyspark\n",
            "  Building wheel for pyspark (setup.py) ... \u001b[?25l\u001b[?25hdone\n",
            "  Created wheel for pyspark: filename=pyspark-3.1.2-py2.py3-none-any.whl size=212880768 sha256=b63ae7fb090bc38cdd82055abe3e77e4b9b8aee1d84c4cb3a9b36193ce2006c5\n",
            "  Stored in directory: /root/.cache/pip/wheels/40/1b/2c/30f43be2627857ab80062bef1527c0128f7b4070b6b2d02139\n",
            "Successfully built pyspark\n",
            "Installing collected packages: py4j, pyspark\n",
            "Successfully installed py4j-0.10.9 pyspark-3.1.2\n"
          ],
          "name": "stdout"
        }
      ]
    },
    {
      "cell_type": "markdown",
      "metadata": {
        "id": "11GHuwQNNnOI"
      },
      "source": [
        "#### Start a simple Spark Session"
      ]
    },
    {
      "cell_type": "code",
      "metadata": {
        "id": "f-a5o5sQ_ZgF"
      },
      "source": [
        ""
      ],
      "execution_count": null,
      "outputs": []
    },
    {
      "cell_type": "markdown",
      "metadata": {
        "id": "k3JX8kmDNudQ"
      },
      "source": [
        "Data Schema"
      ]
    },
    {
      "cell_type": "code",
      "metadata": {
        "id": "3GY9sp5I5bnD"
      },
      "source": [
        ""
      ],
      "execution_count": null,
      "outputs": []
    },
    {
      "cell_type": "markdown",
      "metadata": {
        "id": "9962yCcqODQY"
      },
      "source": [
        "Load the people.json gile, have Spark infer the data types."
      ]
    },
    {
      "cell_type": "code",
      "metadata": {
        "id": "mdXIPRDhNiqz"
      },
      "source": [
        ""
      ],
      "execution_count": null,
      "outputs": []
    },
    {
      "cell_type": "markdown",
      "metadata": {
        "id": "xhbCvaK3O0Kc"
      },
      "source": [
        "#### What are the column names?"
      ]
    },
    {
      "cell_type": "code",
      "metadata": {
        "id": "6Hj4NFfg5bnE",
        "colab": {
          "base_uri": "https://localhost:8080/"
        },
        "outputId": "f9176049-5367-48bb-ec76-7294995341df"
      },
      "source": [
        ""
      ],
      "execution_count": null,
      "outputs": [
        {
          "output_type": "execute_result",
          "data": {
            "text/plain": [
              "['age', 'name']"
            ]
          },
          "metadata": {
            "tags": []
          },
          "execution_count": 6
        }
      ]
    },
    {
      "cell_type": "markdown",
      "metadata": {
        "id": "DtAfnmz-O8Zz"
      },
      "source": [
        "#### What is the schema?"
      ]
    },
    {
      "cell_type": "code",
      "metadata": {
        "id": "d6q1-wnJO9wM",
        "colab": {
          "base_uri": "https://localhost:8080/"
        },
        "outputId": "c992a5e2-2c13-4c53-975d-bcbdc1cc723a"
      },
      "source": [
        ""
      ],
      "execution_count": null,
      "outputs": [
        {
          "output_type": "stream",
          "text": [
            "root\n",
            " |-- age: integer (nullable = true)\n",
            " |-- name: string (nullable = true)\n",
            "\n"
          ],
          "name": "stdout"
        }
      ]
    },
    {
      "cell_type": "markdown",
      "metadata": {
        "id": "uf1e8v8NPGDR"
      },
      "source": [
        "Show whole DataFrame "
      ]
    },
    {
      "cell_type": "code",
      "metadata": {
        "id": "OTKCp3DkPGdB",
        "colab": {
          "base_uri": "https://localhost:8080/"
        },
        "outputId": "f6539780-5098-4e41-8102-2bc8881e3b41"
      },
      "source": [
        ""
      ],
      "execution_count": null,
      "outputs": [
        {
          "output_type": "stream",
          "text": [
            "+----+-------+\n",
            "| age|   name|\n",
            "+----+-------+\n",
            "|null|Michael|\n",
            "|  30|   Andy|\n",
            "|  19| Justin|\n",
            "+----+-------+\n",
            "\n"
          ],
          "name": "stdout"
        }
      ]
    },
    {
      "cell_type": "markdown",
      "metadata": {
        "id": "g02HDXuhPRSB"
      },
      "source": [
        "Print out the first 2 rows."
      ]
    },
    {
      "cell_type": "code",
      "metadata": {
        "id": "EjRovtRqPTf6",
        "colab": {
          "base_uri": "https://localhost:8080/"
        },
        "outputId": "8b20250a-7fa0-4f24-90d1-8cb796a57031"
      },
      "source": [
        ""
      ],
      "execution_count": null,
      "outputs": [
        {
          "output_type": "stream",
          "text": [
            "Row(age=None, name='Michael')\n",
            "\n",
            "\n",
            "Row(age=30, name='Andy')\n",
            "\n",
            "\n"
          ],
          "name": "stdout"
        }
      ]
    },
    {
      "cell_type": "markdown",
      "metadata": {
        "id": "5GsRKjq4Pb3c"
      },
      "source": [
        "Use describe() to learn about the DataFrame"
      ]
    },
    {
      "cell_type": "code",
      "metadata": {
        "id": "hHCzibjUPdrM",
        "colab": {
          "base_uri": "https://localhost:8080/"
        },
        "outputId": "669384fb-4f03-4a59-c68e-25b974a33a59"
      },
      "source": [
        ""
      ],
      "execution_count": null,
      "outputs": [
        {
          "output_type": "execute_result",
          "data": {
            "text/plain": [
              "DataFrame[summary: string, age: string, name: string]"
            ]
          },
          "metadata": {
            "tags": []
          },
          "execution_count": 10
        }
      ]
    },
    {
      "cell_type": "markdown",
      "metadata": {
        "id": "EIiSknW9P-5D"
      },
      "source": [
        "Use another data frame to learn about the statistical report"
      ]
    },
    {
      "cell_type": "code",
      "metadata": {
        "id": "MyCnoHfEP8zi",
        "colab": {
          "base_uri": "https://localhost:8080/"
        },
        "outputId": "17cb7b77-7d0a-4ab4-bcd2-a640f4d99743"
      },
      "source": [
        ""
      ],
      "execution_count": null,
      "outputs": [
        {
          "output_type": "stream",
          "text": [
            "+-------+------------------+-------+\n",
            "|summary|               age|   name|\n",
            "+-------+------------------+-------+\n",
            "|  count|                 2|      3|\n",
            "|   mean|              24.5|   null|\n",
            "| stddev|7.7781745930520225|   null|\n",
            "|    min|                19|   Andy|\n",
            "|    max|                30|Michael|\n",
            "+-------+------------------+-------+\n",
            "\n"
          ],
          "name": "stdout"
        }
      ]
    },
    {
      "cell_type": "markdown",
      "metadata": {
        "id": "g7p7JJqpPtEk"
      },
      "source": [
        "There are too many decimal places for mean and stddev in the describe() dataframe.   \n",
        "How to deal with it?"
      ]
    },
    {
      "cell_type": "code",
      "metadata": {
        "id": "zHaS2zDCRMMk"
      },
      "source": [
        ""
      ],
      "execution_count": null,
      "outputs": []
    },
    {
      "cell_type": "code",
      "metadata": {
        "id": "E9nidaDmP0Go",
        "colab": {
          "base_uri": "https://localhost:8080/"
        },
        "outputId": "a685fb84-9873-49e3-a323-bbecc0015c55"
      },
      "source": [
        ""
      ],
      "execution_count": null,
      "outputs": [
        {
          "output_type": "stream",
          "text": [
            "+-------+-----+\n",
            "|summary|  age|\n",
            "+-------+-----+\n",
            "|  count| 2.00|\n",
            "|   mean|24.50|\n",
            "| stddev| 7.78|\n",
            "|    min|19.00|\n",
            "|    max|30.00|\n",
            "+-------+-----+\n",
            "\n"
          ],
          "name": "stdout"
        }
      ]
    },
    {
      "cell_type": "markdown",
      "metadata": {
        "id": "NWFzUNzLRrRc"
      },
      "source": [
        "Get the mean of age directly"
      ]
    },
    {
      "cell_type": "code",
      "metadata": {
        "id": "F7OkBnMZ5bnF",
        "colab": {
          "base_uri": "https://localhost:8080/"
        },
        "outputId": "1d25377a-03aa-4f45-9154-c9d4c03ef337"
      },
      "source": [
        ""
      ],
      "execution_count": null,
      "outputs": [
        {
          "output_type": "stream",
          "text": [
            "+--------+\n",
            "|avg(age)|\n",
            "+--------+\n",
            "|    24.5|\n",
            "+--------+\n",
            "\n"
          ],
          "name": "stdout"
        }
      ]
    },
    {
      "cell_type": "markdown",
      "metadata": {
        "id": "0sZSs0YeSpuS"
      },
      "source": [
        "What is the max and min of the Volume column?"
      ]
    },
    {
      "cell_type": "code",
      "metadata": {
        "id": "YSpUUJaSSrxd",
        "colab": {
          "base_uri": "https://localhost:8080/"
        },
        "outputId": "a25a0593-dbaf-437d-de9a-cfd87964f553"
      },
      "source": [
        ""
      ],
      "execution_count": null,
      "outputs": [
        {
          "output_type": "stream",
          "text": [
            "+--------+--------+\n",
            "|max(age)|min(age)|\n",
            "+--------+--------+\n",
            "|      30|      19|\n",
            "+--------+--------+\n",
            "\n"
          ],
          "name": "stdout"
        }
      ]
    },
    {
      "cell_type": "markdown",
      "metadata": {
        "id": "7E2XNGa_S1iA"
      },
      "source": [
        "How many people whose age smaller than 30?"
      ]
    },
    {
      "cell_type": "code",
      "metadata": {
        "id": "TVsXwce9S1vP",
        "colab": {
          "base_uri": "https://localhost:8080/"
        },
        "outputId": "e6f39b92-eb8c-49b0-8d6e-4c4c1e6902a3"
      },
      "source": [
        ""
      ],
      "execution_count": null,
      "outputs": [
        {
          "output_type": "execute_result",
          "data": {
            "text/plain": [
              "1"
            ]
          },
          "metadata": {
            "tags": []
          },
          "execution_count": 17
        }
      ]
    },
    {
      "cell_type": "code",
      "metadata": {
        "id": "25qMbjf-TKtH",
        "colab": {
          "base_uri": "https://localhost:8080/"
        },
        "outputId": "235cf990-0d42-44a3-aac1-f69a2a43ef8b"
      },
      "source": [
        ""
      ],
      "execution_count": null,
      "outputs": [
        {
          "output_type": "stream",
          "text": [
            "+----------+\n",
            "|count(age)|\n",
            "+----------+\n",
            "|         1|\n",
            "+----------+\n",
            "\n"
          ],
          "name": "stdout"
        }
      ]
    },
    {
      "cell_type": "markdown",
      "metadata": {
        "id": "H05rcM00PH-c"
      },
      "source": [
        "**Checkpoint 2 - 0.5 point** \n",
        "\n",
        "How many people whose age larger than 18?"
      ]
    },
    {
      "cell_type": "code",
      "metadata": {
        "id": "1BY73dI1PPsL"
      },
      "source": [
        ""
      ],
      "execution_count": null,
      "outputs": []
    }
  ]
}